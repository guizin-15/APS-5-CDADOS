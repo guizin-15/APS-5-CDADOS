{
 "cells": [
  {
   "cell_type": "code",
   "execution_count": 1,
   "metadata": {},
   "outputs": [],
   "source": [
    "import pandas as pd\n",
    "import scipy.stats as st\n",
    "import math"
   ]
  },
  {
   "cell_type": "markdown",
   "metadata": {},
   "source": [
    "# **APS 5 - Intervalos de confiança**\n",
    "\n",
    "### *Luigi Orlandi, Andre Oliveira e Deena El Orra*"
   ]
  },
  {
   "cell_type": "code",
   "execution_count": 17,
   "metadata": {},
   "outputs": [],
   "source": [
    "df = pd.read_csv(\"data/Rocket Data.csv\", encoding=\"utf-8\", delimiter=\";\", skiprows=0, decimal = \".\")\n",
    "df[\"Avg. Players\"] = df[\"Avg. Players\"].str.replace(',', '').astype(float)"
   ]
  },
  {
   "cell_type": "markdown",
   "metadata": {},
   "source": [
    "### **Etapas para o calculo de um intervalo de confiança**\n",
    "\n",
    "1. Primeiramente calculamos a média dos valores totais observados\n",
    "\n",
    "2. Em segundo lugar contamos o número de ocorrência destes valores\n",
    "\n",
    "3. Calculamos o desvio padrão dessass médias\n",
    "\n",
    "4. Por fim adotamos a escala na qual nossos dados foram trabalhados"
   ]
  },
  {
   "cell_type": "code",
   "execution_count": 25,
   "metadata": {},
   "outputs": [
    {
     "name": "stdout",
     "output_type": "stream",
     "text": [
      "33124.77171717171\n",
      "99\n"
     ]
    }
   ],
   "source": [
    "mu = df[\"Avg. Players\"].mean()\n",
    "n = df[\"Avg. Players\"].count() \n",
    "sigma = df[\"Avg. Players\"].std() \n",
    "escala = sigma/math.sqrt(n)\n",
    "\n",
    "print(mu)"
   ]
  },
  {
   "cell_type": "markdown",
   "metadata": {},
   "source": [
    "### Calculando Valores **A** e **B** que representam o intervalo de confiança"
   ]
  },
  {
   "cell_type": "code",
   "execution_count": 29,
   "metadata": {},
   "outputs": [
    {
     "name": "stdout",
     "output_type": "stream",
     "text": [
      "31023.075660293256\n",
      "35226.46777405016\n"
     ]
    }
   ],
   "source": [
    "a = st.norm.ppf(0.025, loc=mu, scale=escala)\n",
    "b = st.norm.ppf(0.975, loc=mu, scale=escala)\n",
    "print(a)\n",
    "print(b)"
   ]
  }
 ],
 "metadata": {
  "kernelspec": {
   "display_name": "base",
   "language": "python",
   "name": "python3"
  },
  "language_info": {
   "codemirror_mode": {
    "name": "ipython",
    "version": 3
   },
   "file_extension": ".py",
   "mimetype": "text/x-python",
   "name": "python",
   "nbconvert_exporter": "python",
   "pygments_lexer": "ipython3",
   "version": "3.10.9"
  }
 },
 "nbformat": 4,
 "nbformat_minor": 2
}
