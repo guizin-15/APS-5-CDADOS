{
 "cells": [
  {
   "cell_type": "code",
   "execution_count": 22,
   "metadata": {},
   "outputs": [],
   "source": [
    "import pandas as pd\n",
    "import scipy.stats as st\n",
    "import math"
   ]
  },
  {
   "cell_type": "markdown",
   "metadata": {},
   "source": [
    "# **APS 5 - Intervalos de confiança**\n",
    "\n",
    "### *Luigi Orlandi, Andre Oliveira e Deena El Orra*"
   ]
  },
  {
   "cell_type": "code",
   "execution_count": 23,
   "metadata": {},
   "outputs": [],
   "source": [
    "df = pd.read_csv(\"data/Rocket Data.csv\", encoding=\"utf-8\", delimiter=\";\", skiprows=0, decimal = \".\")\n",
    "\n",
    "df[\"Avg. Players\"] = df[\"Avg. Players\"].str.replace(',', '').astype(float)\n",
    "df[\"Peak Players\"] = df[\"Peak Players\"].str.replace(',', '').astype(float)\n",
    "df[\"Gain\"] = df[\"Gain\"].str.replace(',', '').astype(float)\n",
    "df[\"% Gain\"] = df[\"% Gain\"].str.replace('%', '')"
   ]
  },
  {
   "cell_type": "markdown",
   "metadata": {},
   "source": [
    "### **Etapas para o calculo de um intervalo de confiança**\n",
    "\n",
    "1. Primeiramente calculamos a média dos valores totais observados\n",
    "\n",
    "2. Em segundo lugar contamos o número de ocorrência destes valores\n",
    "\n",
    "3. Calculamos o desvio padrão dessass médias\n",
    "\n",
    "4. Por fim adotamos a escala na qual nossos dados foram trabalhados"
   ]
  },
  {
   "cell_type": "markdown",
   "metadata": {},
   "source": [
    "# Parte 1 - Intervalo de confiança \n",
    "## **Média de jogadores mensais**"
   ]
  },
  {
   "cell_type": "code",
   "execution_count": 26,
   "metadata": {},
   "outputs": [
    {
     "name": "stdout",
     "output_type": "stream",
     "text": [
      "33124.77171717171\n"
     ]
    }
   ],
   "source": [
    "mu = df[\"Avg. Players\"].mean()\n",
    "n = df[\"Avg. Players\"].count() \n",
    "sigma = df[\"Avg. Players\"].std() \n",
    "escala = sigma/math.sqrt(n)\n",
    "\n",
    "print(mu)"
   ]
  },
  {
   "cell_type": "code",
   "execution_count": 27,
   "metadata": {},
   "outputs": [
    {
     "name": "stdout",
     "output_type": "stream",
     "text": [
      "30996.800256027258\n",
      "35252.74317831616\n"
     ]
    }
   ],
   "source": [
    "a = st.t.ppf(0.025, df=len(df)-1, loc=mu, scale=escala)\n",
    "b = st.t.ppf(0.975, df=len(df)-1, loc=mu, scale=escala)\n",
    "\n",
    "print(a)\n",
    "print(b)"
   ]
  },
  {
   "cell_type": "markdown",
   "metadata": {},
   "source": [
    "# Parte 2 - Intervalo de confiança\n",
    "## **Ganho médio mensal**"
   ]
  },
  {
   "cell_type": "code",
   "execution_count": 28,
   "metadata": {},
   "outputs": [
    {
     "name": "stdout",
     "output_type": "stream",
     "text": [
      "233.84242424242433\n"
     ]
    }
   ],
   "source": [
    "mu = df[\"Gain\"].mean()\n",
    "n = df[\"Gain\"].count()\n",
    "sigma = df[\"Gain\"].std()\n",
    "escala = sigma/math.sqrt(n)\n",
    "\n",
    "print(mu)"
   ]
  },
  {
   "cell_type": "code",
   "execution_count": 29,
   "metadata": {},
   "outputs": [
    {
     "name": "stdout",
     "output_type": "stream",
     "text": [
      "-590.2188672451136\n",
      "1057.9037157299622\n"
     ]
    }
   ],
   "source": [
    "a = st.t.ppf(0.025, df=len(df)-1, loc=mu, scale=escala)\n",
    "b = st.t.ppf(0.975, df=len(df)-1, loc=mu, scale=escala)\n",
    "\n",
    "print(a)\n",
    "print(b)"
   ]
  }
 ],
 "metadata": {
  "kernelspec": {
   "display_name": "base",
   "language": "python",
   "name": "python3"
  },
  "language_info": {
   "codemirror_mode": {
    "name": "ipython",
    "version": 3
   },
   "file_extension": ".py",
   "mimetype": "text/x-python",
   "name": "python",
   "nbconvert_exporter": "python",
   "pygments_lexer": "ipython3",
   "version": "3.10.9"
  }
 },
 "nbformat": 4,
 "nbformat_minor": 2
}
