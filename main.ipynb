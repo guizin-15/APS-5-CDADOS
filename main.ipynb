{
 "cells": [
  {
   "cell_type": "code",
   "execution_count": 1,
   "metadata": {},
   "outputs": [],
   "source": [
    "import pandas as pd\n",
    "import scipy.stats as st\n",
    "import math"
   ]
  },
  {
   "cell_type": "code",
   "execution_count": 17,
   "metadata": {},
   "outputs": [],
   "source": [
    "df = pd.read_csv(\"data/Rocket Data.csv\", encoding=\"utf-8\", delimiter=\";\", skiprows=0, decimal = \".\")\n",
    "df[\"Avg. Players\"] = df[\"Avg. Players\"].str.replace(',', '').astype(float)"
   ]
  },
  {
   "cell_type": "code",
   "execution_count": 23,
   "metadata": {},
   "outputs": [],
   "source": [
    "mu = df[\"Avg. Players\"].mean()\n",
    "n = df[\"Avg. Players\"].count() \n",
    "sigma = df[\"Avg. Players\"].std() \n",
    "escala = sigma/math.sqrt(n)\n"
   ]
  },
  {
   "cell_type": "code",
   "execution_count": 22,
   "metadata": {},
   "outputs": [
    {
     "name": "stdout",
     "output_type": "stream",
     "text": [
      "31023.075660293256\n",
      "35226.46777405016\n"
     ]
    }
   ],
   "source": [
    "a = st.norm.ppf(0.025, loc=mu, scale=escala)\n",
    "b = st.norm.ppf(0.975, loc=mu, scale=escala)\n",
    "print(a)\n",
    "print(b)"
   ]
  }
 ],
 "metadata": {
  "kernelspec": {
   "display_name": "base",
   "language": "python",
   "name": "python3"
  },
  "language_info": {
   "codemirror_mode": {
    "name": "ipython",
    "version": 3
   },
   "file_extension": ".py",
   "mimetype": "text/x-python",
   "name": "python",
   "nbconvert_exporter": "python",
   "pygments_lexer": "ipython3",
   "version": "3.10.9"
  }
 },
 "nbformat": 4,
 "nbformat_minor": 2
}
